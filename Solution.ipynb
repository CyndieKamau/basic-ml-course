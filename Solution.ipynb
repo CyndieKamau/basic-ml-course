{
  "nbformat": 4,
  "nbformat_minor": 0,
  "metadata": {
    "colab": {
      "provenance": [],
      "authorship_tag": "ABX9TyOxvljamg6VM0ZudJgY34Z5",
      "include_colab_link": true
    },
    "kernelspec": {
      "name": "python3",
      "display_name": "Python 3"
    },
    "language_info": {
      "name": "python"
    }
  },
  "cells": [
    {
      "cell_type": "markdown",
      "metadata": {
        "id": "view-in-github",
        "colab_type": "text"
      },
      "source": [
        "<a href=\"https://colab.research.google.com/github/CyndieKamau/basic-ml-course/blob/master/Solution.ipynb\" target=\"_parent\"><img src=\"https://colab.research.google.com/assets/colab-badge.svg\" alt=\"Open In Colab\"/></a>"
      ]
    },
    {
      "cell_type": "markdown",
      "source": [
        "## **Assignment 1 (1 pt)**\n",
        "\n",
        "Write a function `is_triangle` to check the validity of a triangle.\n",
        "\n",
        "This function should receive 3 parameters corresponding to the length of 3 edges. \n",
        "\n",
        "It should return `boolean True` if all 3 edges can form a triangle, else it returns False."
      ],
      "metadata": {
        "id": "KhRXxFY9i3Si"
      }
    },
    {
      "cell_type": "code",
      "source": [
        "def is_triangle(a, b, c):\n",
        "    if a + b >= c and c + a >= b and b + c >= a:\n",
        "        return True\n",
        "\n",
        "    else:\n",
        "\n",
        "        return False\n",
        "\n",
        "\n",
        "\n",
        "\n",
        "print(is_triangle(1, 2, 3))  # Expected output: False\n",
        "print(is_triangle(2, 2, 3))  # Expected output: True\n"
      ],
      "metadata": {
        "colab": {
          "base_uri": "https://localhost:8080/"
        },
        "id": "zx3Zw7RljKx5",
        "outputId": "8c746d6c-4eb5-4ed2-ccd7-a39f7c9bde01"
      },
      "execution_count": null,
      "outputs": [
        {
          "output_type": "stream",
          "name": "stdout",
          "text": [
            "True\n",
            "True\n"
          ]
        }
      ]
    },
    {
      "cell_type": "markdown",
      "source": [
        "## **Assignment 2 (1 pt)**\n",
        "\n",
        "Print odd numbers from 1 to 10 using for loop and range.\n",
        "\n",
        "Expected output:\n",
        "\n",
        "```\n",
        "1\n",
        "3\n",
        "5\n",
        "7\n",
        "9\n",
        "```"
      ],
      "metadata": {
        "id": "qBsZ4KtRlJy2"
      }
    },
    {
      "cell_type": "code",
      "source": [
        "x = 0\n",
        "for x in range(10):\n",
        "    if x%2 == 1:\n",
        "      print(x)\n"
      ],
      "metadata": {
        "id": "XBD4KOoLlnEJ",
        "colab": {
          "base_uri": "https://localhost:8080/"
        },
        "outputId": "54f9ded0-541d-4a5e-e837-0eedc53f0c65"
      },
      "execution_count": null,
      "outputs": [
        {
          "output_type": "stream",
          "name": "stdout",
          "text": [
            "1\n",
            "3\n",
            "5\n",
            "7\n",
            "9\n"
          ]
        }
      ]
    },
    {
      "cell_type": "markdown",
      "source": [
        "## **Assignment 3 (1 pt)**\n",
        "\n",
        "Write a function `get_reverse` that return a reversed string.\n",
        "\n",
        "Input: Kenya\n",
        "\n",
        "Output: ayneK"
      ],
      "metadata": {
        "id": "z3xoCLLvlydn"
      }
    },
    {
      "cell_type": "code",
      "source": [
        "def get_reverse(text):\n",
        "    text = text[::-1]  \n",
        "    return text\n",
        "    \n",
        "x = input(\"Write your text here: \")\n",
        "print(get_reverse(x))"
      ],
      "metadata": {
        "id": "5c7YrGj6mF44",
        "colab": {
          "base_uri": "https://localhost:8080/"
        },
        "outputId": "bba4f35b-4cf0-4900-e029-17645adc8486"
      },
      "execution_count": null,
      "outputs": [
        {
          "output_type": "stream",
          "name": "stdout",
          "text": [
            "Write your text here: Kenya\n",
            "ayneK\n"
          ]
        }
      ]
    },
    {
      "cell_type": "markdown",
      "source": [
        "## **Assignment 4 (1 pt)**\n",
        "\n",
        "Write a function that return a new set that contains elements that are either in set a or b but not both."
      ],
      "metadata": {
        "id": "pFxCY08hmMNS"
      }
    },
    {
      "cell_type": "code",
      "source": [
        "set1 = {10, 20, 30, 40, 50}\n",
        "set2 = {30, 40, 50, 60, 70}\n",
        "\n",
        "set3 = set1.symmetric_difference(set2)\n",
        "\n",
        "print(set3)\n",
        "\n",
        "\n",
        "# Expected output: {10, 20, 60, 70}\n"
      ],
      "metadata": {
        "id": "OreTHTEGmWcR",
        "colab": {
          "base_uri": "https://localhost:8080/"
        },
        "outputId": "9248e4b1-0236-45e2-f688-ce4f2dbbeded"
      },
      "execution_count": null,
      "outputs": [
        {
          "output_type": "stream",
          "name": "stdout",
          "text": [
            "{20, 70, 10, 60}\n"
          ]
        }
      ]
    },
    {
      "cell_type": "markdown",
      "source": [
        "## **Assignment 5 (1 pt)**\n",
        "\n",
        "Write a function remove_from_list that remove all occurrances of a value from a list."
      ],
      "metadata": {
        "id": "l1v03DlmmdhJ"
      }
    },
    {
      "cell_type": "code",
      "source": [
        "def remove_from_list(input_list, value):\n",
        "\n",
        "        input_list = [x for x in input_list if x != value]\n",
        "        return input_list\n",
        "\n",
        "a = [10, 20, 10, 30, 40, 50, 10, 0]\n",
        "a = remove_from_list(a, 10)\n",
        "print(a)  # Expected output: [20, 30, 40, 50, 0]"
      ],
      "metadata": {
        "id": "XrKNNywAmpiI",
        "colab": {
          "base_uri": "https://localhost:8080/"
        },
        "outputId": "d3e44578-5083-422a-b08b-3f8fa06dc843"
      },
      "execution_count": null,
      "outputs": [
        {
          "output_type": "stream",
          "name": "stdout",
          "text": [
            "[20, 30, 40, 50, 0]\n"
          ]
        }
      ]
    },
    {
      "cell_type": "markdown",
      "source": [
        "## **Assignment 6 (1 pt)**\n",
        "\n",
        "Complete the following class by: (1 pt)\n",
        "\n",
        "* Write code that assign name and score to the object.\n",
        "* Write method `get_score` that return score attribute of the object.\n",
        "* Write method `describe` that print `<student name>: <student score>`.\n",
        "\n"
      ],
      "metadata": {
        "id": "SoBW5NTGmxpl"
      }
    },
    {
      "cell_type": "code",
      "source": [
        "class Student:\n",
        "    def __init__(self, name, score):\n",
        "        self.name = name\n",
        "        self.score = score\n",
        "\n",
        "    def get_score(self):\n",
        "        return self.score\n",
        "    \n",
        "    def describe(self):\n",
        "        return self.name + \": \" + str(self.score)\n",
        "\n",
        "student = Student(\"John\", 85)\n",
        "print(student.get_score())  # Expected output: 85\n",
        "student.describe()  # Expected output: \"John: 85\"\n"
      ],
      "metadata": {
        "id": "tG4EhwnpnR1m",
        "colab": {
          "base_uri": "https://localhost:8080/",
          "height": 53
        },
        "outputId": "d56bf6ee-2638-4335-c503-ef6751e05241"
      },
      "execution_count": null,
      "outputs": [
        {
          "output_type": "stream",
          "name": "stdout",
          "text": [
            "85\n"
          ]
        },
        {
          "output_type": "execute_result",
          "data": {
            "text/plain": [
              "'John: 85'"
            ],
            "application/vnd.google.colaboratory.intrinsic+json": {
              "type": "string"
            }
          },
          "metadata": {},
          "execution_count": 41
        }
      ]
    },
    {
      "cell_type": "markdown",
      "source": [
        "## **Assignment 7 (1 pt)**\n",
        "\n",
        "Complete the Employee class by:\n",
        "\n",
        "* Write code that calls the `__init__` method of the base class to initialize attributes.\n",
        "* Write a speak method that receives a word as its parameter and outputs \n",
        "\n",
        "`\"Employee <employee name> spoke <word>\"`\n",
        "\n"
      ],
      "metadata": {
        "id": "t1NLmmFmnXSR"
      }
    },
    {
      "cell_type": "code",
      "source": [
        "# COULDN'T FIND THE CORRECT CODE.\n",
        "\n",
        "# I HAVEN'T FULLY UNDERSTOOD HOW CLASSES AND INHERITANCE WORKS.\n",
        "\n",
        "class Person:\n",
        "    def __init__(self, name):\n",
        "        self.name = name\n",
        "\n",
        "    def speak(self):\n",
        "        return \"Person \" + self.name + \" spoke something.\"\n",
        "\n",
        "class Employee(Person):\n",
        "    def __init__(self, name):\n",
        "        self.name = name\n",
        "      \n",
        "\n",
        "    def speak(self, word):\n",
        "        self.word = word\n",
        "        \n",
        "        pass\n",
        "\n",
        "employee = Employee(\"David\")\n",
        "print(employee.speak(\"hello\"))  # Expected output: \"Employee David spoke hello\"\n"
      ],
      "metadata": {
        "id": "iT3emyq4ntjF",
        "colab": {
          "base_uri": "https://localhost:8080/"
        },
        "outputId": "6599702b-530b-4df7-a4cb-58963fee6d15"
      },
      "execution_count": null,
      "outputs": [
        {
          "output_type": "stream",
          "name": "stdout",
          "text": [
            "None\n"
          ]
        }
      ]
    },
    {
      "cell_type": "markdown",
      "source": [
        "## **Assignment 8 (1 pt)**\n",
        "\n",
        "Print all the key-value pairs of a dictionary using for loop. Each line is a key-value pair.\n",
        "\n",
        "Hint: to get all the keys of a dictionary, use `.keys()`.\n",
        "\n"
      ],
      "metadata": {
        "id": "8-0fgjeQn1IH"
      }
    },
    {
      "cell_type": "code",
      "source": [
        "country_capital = {\n",
        "    \"japan\": \"tokyo\",\n",
        "    \"vietnam\": \"hanoi\",\n",
        "    \"france\": \"paris\"\n",
        "}\n",
        "\n",
        "for key,value in country_capital.items():\n",
        "    print(key, \" - \", value)\n",
        "\n",
        "\n",
        "# Expected output:\n",
        "#\"\"\"\n",
        "#japan - tokyo\n",
        "#vietnam - hanoi\n",
        "#france - paris\n",
        "#\"\"\""
      ],
      "metadata": {
        "id": "k1JooLnLn_3O",
        "colab": {
          "base_uri": "https://localhost:8080/"
        },
        "outputId": "175f90d5-1bc3-45a9-9a52-43b03416a5db"
      },
      "execution_count": null,
      "outputs": [
        {
          "output_type": "stream",
          "name": "stdout",
          "text": [
            "japan  -  tokyo\n",
            "vietnam  -  hanoi\n",
            "france  -  paris\n"
          ]
        }
      ]
    },
    {
      "cell_type": "markdown",
      "source": [
        "## **Assignment 9 (2 pt)**\n",
        "\n",
        "Write a function solve_equation to solve equation **ax^2 + bx + c = 0.** (1 pt)\n",
        "\n",
        "* If equation has no solutions, print `No solution`.\n",
        "* If equation has one solution, print `Equation has one solution <x>` (`<x>` is the value of the solution)\n",
        "* If equation has two solutions, print `Equation has two solutions <x1> and <x2>` (`<x1>` and `<x2>` are the values of the solution)\n"
      ],
      "metadata": {
        "id": "K8YtwBRLoFvv"
      }
    },
    {
      "cell_type": "code",
      "source": [
        "import math\n",
        "\n",
        "def solve_equation(a, b, c):\n",
        "\n",
        "    # calculating discriminant using formula\n",
        "\n",
        "    discriminant = b * b - 4 * a * c #quadratic formula\n",
        "\n",
        "    sqrt_dis = math.sqrt(abs(discriminant))\n",
        "\n",
        "    # checking condition for discriminant\n",
        "\n",
        "    if discriminant > 0:  # if b^2 - 4ac > 0 \n",
        "        print(\" Equation has two solutions\") \n",
        "        print(str((-b + sqrt_dis)/(2 * a))) \n",
        "        print(str((-b - sqrt_dis)/(2 * a))) \n",
        "\n",
        "\n",
        "    elif discriminant == 0: # if b^2 - 4ac = 0\n",
        "        print(\" Equation has one solution: \" + str(-b / (2 * a)) ) \n",
        "  \n",
        "    \n",
        "      \n",
        "    # when discriminant is less than 0 : b^2 is less than 4ac\n",
        "    else:\n",
        "        print(\"Equation has no solution\") \n",
        "    \n",
        "\n",
        "solve_equation(1,14,49)"
      ],
      "metadata": {
        "id": "b1bdZqU6ospC",
        "colab": {
          "base_uri": "https://localhost:8080/"
        },
        "outputId": "560686ab-a13c-4561-d07f-f2bccf8236b2"
      },
      "execution_count": null,
      "outputs": [
        {
          "output_type": "stream",
          "name": "stdout",
          "text": [
            " Equation has one solution: -7.0\n"
          ]
        }
      ]
    }
  ]
}